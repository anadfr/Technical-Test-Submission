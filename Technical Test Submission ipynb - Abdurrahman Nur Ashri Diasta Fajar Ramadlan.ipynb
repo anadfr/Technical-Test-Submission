{
 "cells": [
  {
   "attachments": {},
   "cell_type": "markdown",
   "metadata": {},
   "source": [
    "# [Unilever Indonesia] OTE Project Solana (COps Data Tech Revamp) - Technical Test Section\n",
    "# Abdurrahman Nur Ashri Diasta Fajar Ramadlan"
   ]
  },
  {
   "cell_type": "code",
   "execution_count": 35,
   "metadata": {},
   "outputs": [],
   "source": [
    "# Import libraries\n",
    "import pandas as pd\n",
    "import numpy as np\n",
    "import datetime\n",
    "\n",
    "import warnings\n",
    "warnings.filterwarnings('ignore')"
   ]
  },
  {
   "cell_type": "code",
   "execution_count": 36,
   "metadata": {},
   "outputs": [],
   "source": [
    "# Load input data\n",
    "FBL5N=pd.read_excel(\"CAOT Test Case _ Final.xlsx\",sheet_name=\"Input Data - FBL5N\")\n",
    "cushier=pd.read_excel(\"CAOT Test Case _ Final.xlsx\",sheet_name=\"Input Data - Cust Hierarchy\")\n",
    "holiday=pd.read_excel(\"CAOT Test Case _ Final.xlsx\",sheet_name=\"Input - Holiday\")\n",
    "reportdate=pd.read_excel(\"CAOT Test Case _ Final.xlsx\",sheet_name=\"Input - Report Date\")"
   ]
  },
  {
   "cell_type": "code",
   "execution_count": 37,
   "metadata": {},
   "outputs": [],
   "source": [
    "# Load output data \n",
    "out2=pd.read_excel(\"CAOT Test Case _ Final.xlsx\",sheet_name=\"Output\",skiprows=[0,1,2,3,4])"
   ]
  },
  {
   "cell_type": "code",
   "execution_count": 38,
   "metadata": {},
   "outputs": [
    {
     "data": {
      "text/html": [
       "<div>\n",
       "<style scoped>\n",
       "    .dataframe tbody tr th:only-of-type {\n",
       "        vertical-align: middle;\n",
       "    }\n",
       "\n",
       "    .dataframe tbody tr th {\n",
       "        vertical-align: top;\n",
       "    }\n",
       "\n",
       "    .dataframe thead th {\n",
       "        text-align: right;\n",
       "    }\n",
       "</style>\n",
       "<table border=\"1\" class=\"dataframe\">\n",
       "  <thead>\n",
       "    <tr style=\"text-align: right;\">\n",
       "      <th></th>\n",
       "      <th>Company Code</th>\n",
       "      <th>Account</th>\n",
       "      <th>Customer Name</th>\n",
       "      <th>TFL2</th>\n",
       "      <th>Customer Channel</th>\n",
       "      <th>SWL2</th>\n",
       "      <th>SWL3</th>\n",
       "      <th>Banner</th>\n",
       "    </tr>\n",
       "  </thead>\n",
       "  <tbody>\n",
       "    <tr>\n",
       "      <th>0</th>\n",
       "      <td>2408</td>\n",
       "      <td>15061017</td>\n",
       "      <td>PE. SXGKCA QLCQAWQ EAWJQYQ YC KQIYX</td>\n",
       "      <td>GZYCAI EAQYC</td>\n",
       "      <td>MT</td>\n",
       "      <td>CYG GWIWGQAKCE</td>\n",
       "      <td>KQG QLCQGQAE</td>\n",
       "      <td>QLCQGQAE</td>\n",
       "    </tr>\n",
       "    <tr>\n",
       "      <th>1</th>\n",
       "      <td>2408</td>\n",
       "      <td>15061063</td>\n",
       "      <td>PE. EXLXS GQJX</td>\n",
       "      <td>YWSEAWKXEWVC EAQYC</td>\n",
       "      <td>UFS</td>\n",
       "      <td>AKG CCIEAQL</td>\n",
       "      <td>QKG CQSECAI JQKQAEQ</td>\n",
       "      <td>PE. EXLXS GQJX</td>\n",
       "    </tr>\n",
       "    <tr>\n",
       "      <th>2</th>\n",
       "      <td>2408</td>\n",
       "      <td>15061820</td>\n",
       "      <td>CLQIYYS GQAE</td>\n",
       "      <td>GZYCAI EAQYC</td>\n",
       "      <td>MT</td>\n",
       "      <td>ASG ZXECA WSLQIY</td>\n",
       "      <td>KXH KQLW</td>\n",
       "      <td>CLQIYYS GQAE</td>\n",
       "    </tr>\n",
       "    <tr>\n",
       "      <th>3</th>\n",
       "      <td>2408</td>\n",
       "      <td>15061820</td>\n",
       "      <td>CLQIYYS GQAE</td>\n",
       "      <td>GZYCAI EAQYC</td>\n",
       "      <td>MT</td>\n",
       "      <td>ASG ZXECA WSLQIY</td>\n",
       "      <td>KXH KQLW</td>\n",
       "      <td>CLQIYYS GQAE</td>\n",
       "    </tr>\n",
       "    <tr>\n",
       "      <th>4</th>\n",
       "      <td>2408</td>\n",
       "      <td>15062513</td>\n",
       "      <td>CV. XSQHQ JQYQ QKQYW</td>\n",
       "      <td>YWSEAWKXEWVC EAQYC</td>\n",
       "      <td>DT</td>\n",
       "      <td>ASG ZXECA WSLQIY</td>\n",
       "      <td>QSG PZIEWQIQK</td>\n",
       "      <td>XSQHQ JQYQ</td>\n",
       "    </tr>\n",
       "    <tr>\n",
       "      <th>...</th>\n",
       "      <td>...</td>\n",
       "      <td>...</td>\n",
       "      <td>...</td>\n",
       "      <td>...</td>\n",
       "      <td>...</td>\n",
       "      <td>...</td>\n",
       "      <td>...</td>\n",
       "      <td>...</td>\n",
       "    </tr>\n",
       "    <tr>\n",
       "      <th>2808</th>\n",
       "      <td>2408</td>\n",
       "      <td>15553734</td>\n",
       "      <td>JXAQOQI KZOZA CWPQIQS</td>\n",
       "      <td>YWSEAWKXEWVC EAQYC</td>\n",
       "      <td>IC</td>\n",
       "      <td>ASG SCAX</td>\n",
       "      <td>QSG SCAX 2</td>\n",
       "      <td>JXAQOQI KZOZA CWPQIQS</td>\n",
       "    </tr>\n",
       "    <tr>\n",
       "      <th>2809</th>\n",
       "      <td>2408</td>\n",
       "      <td>15553734</td>\n",
       "      <td>JXAQOQI KZOZA CWPQIQS</td>\n",
       "      <td>YWSEAWKXEWVC EAQYC</td>\n",
       "      <td>IC</td>\n",
       "      <td>ASG SCAX</td>\n",
       "      <td>QSG SCAX 2</td>\n",
       "      <td>JXAQOQI KZOZA CWPQIQS</td>\n",
       "    </tr>\n",
       "    <tr>\n",
       "      <th>2810</th>\n",
       "      <td>2408</td>\n",
       "      <td>15612480</td>\n",
       "      <td>JXAQOQI KQAQWQIO CWKXQYQ</td>\n",
       "      <td>YWSEAWKXEWVC EAQYC</td>\n",
       "      <td>IC</td>\n",
       "      <td>ASG SCAX</td>\n",
       "      <td>QSG SCAX 2</td>\n",
       "      <td>JXAQOQI KQAQWQIO CWKXQYQ</td>\n",
       "    </tr>\n",
       "    <tr>\n",
       "      <th>2811</th>\n",
       "      <td>2408</td>\n",
       "      <td>15612948</td>\n",
       "      <td>JXAQOQI KZOZA CWSQAXQ</td>\n",
       "      <td>YWSEAWKXEWVC EAQYC</td>\n",
       "      <td>IC</td>\n",
       "      <td>ASG SCAX</td>\n",
       "      <td>QSG SCAX 2</td>\n",
       "      <td>JXAQOQI KZOZA CWSQAXQ</td>\n",
       "    </tr>\n",
       "    <tr>\n",
       "      <th>2812</th>\n",
       "      <td>2408</td>\n",
       "      <td>15635966</td>\n",
       "      <td>JXAQOQI KQAQWQIO CWQGPCL</td>\n",
       "      <td>YWSEAWKXEWVC EAQYC</td>\n",
       "      <td>IC</td>\n",
       "      <td>ASG SCAX</td>\n",
       "      <td>QSG SCAX 2</td>\n",
       "      <td>JXAQOQI KQAQWQIO CWQGPCL</td>\n",
       "    </tr>\n",
       "  </tbody>\n",
       "</table>\n",
       "<p>2813 rows × 8 columns</p>\n",
       "</div>"
      ],
      "text/plain": [
       "      Company Code   Account                        Customer Name  \\\n",
       "0             2408  15061017  PE. SXGKCA QLCQAWQ EAWJQYQ YC KQIYX   \n",
       "1             2408  15061063                       PE. EXLXS GQJX   \n",
       "2             2408  15061820                         CLQIYYS GQAE   \n",
       "3             2408  15061820                         CLQIYYS GQAE   \n",
       "4             2408  15062513                 CV. XSQHQ JQYQ QKQYW   \n",
       "...            ...       ...                                  ...   \n",
       "2808          2408  15553734                JXAQOQI KZOZA CWPQIQS   \n",
       "2809          2408  15553734                JXAQOQI KZOZA CWPQIQS   \n",
       "2810          2408  15612480             JXAQOQI KQAQWQIO CWKXQYQ   \n",
       "2811          2408  15612948                JXAQOQI KZOZA CWSQAXQ   \n",
       "2812          2408  15635966             JXAQOQI KQAQWQIO CWQGPCL   \n",
       "\n",
       "                    TFL2 Customer Channel              SWL2  \\\n",
       "0           GZYCAI EAQYC               MT    CYG GWIWGQAKCE   \n",
       "1     YWSEAWKXEWVC EAQYC              UFS       AKG CCIEAQL   \n",
       "2           GZYCAI EAQYC               MT  ASG ZXECA WSLQIY   \n",
       "3           GZYCAI EAQYC               MT  ASG ZXECA WSLQIY   \n",
       "4     YWSEAWKXEWVC EAQYC               DT  ASG ZXECA WSLQIY   \n",
       "...                  ...              ...               ...   \n",
       "2808  YWSEAWKXEWVC EAQYC               IC          ASG SCAX   \n",
       "2809  YWSEAWKXEWVC EAQYC               IC          ASG SCAX   \n",
       "2810  YWSEAWKXEWVC EAQYC               IC          ASG SCAX   \n",
       "2811  YWSEAWKXEWVC EAQYC               IC          ASG SCAX   \n",
       "2812  YWSEAWKXEWVC EAQYC               IC          ASG SCAX   \n",
       "\n",
       "                     SWL3                    Banner  \n",
       "0            KQG QLCQGQAE                  QLCQGQAE  \n",
       "1     QKG CQSECAI JQKQAEQ            PE. EXLXS GQJX  \n",
       "2                KXH KQLW              CLQIYYS GQAE  \n",
       "3                KXH KQLW              CLQIYYS GQAE  \n",
       "4           QSG PZIEWQIQK                XSQHQ JQYQ  \n",
       "...                   ...                       ...  \n",
       "2808           QSG SCAX 2     JXAQOQI KZOZA CWPQIQS  \n",
       "2809           QSG SCAX 2     JXAQOQI KZOZA CWPQIQS  \n",
       "2810           QSG SCAX 2  JXAQOQI KQAQWQIO CWKXQYQ  \n",
       "2811           QSG SCAX 2     JXAQOQI KZOZA CWSQAXQ  \n",
       "2812           QSG SCAX 2  JXAQOQI KQAQWQIO CWQGPCL  \n",
       "\n",
       "[2813 rows x 8 columns]"
      ]
     },
     "execution_count": 38,
     "metadata": {},
     "output_type": "execute_result"
    }
   ],
   "source": [
    "# Merge data to generate the first 5 processed fields\n",
    "out=pd.merge(FBL5N.iloc[:,:2],cushier.iloc[:,[0,1,3,13,10,11,2]],how=\"left\",left_on=\"Account\",right_on=\"Customer\")\n",
    "out=out.drop(columns=\"Customer\")\n",
    "out"
   ]
  },
  {
   "cell_type": "code",
   "execution_count": 39,
   "metadata": {},
   "outputs": [
    {
     "name": "stdout",
     "output_type": "stream",
     "text": [
      "<class 'pandas.core.frame.DataFrame'>\n",
      "Int64Index: 2813 entries, 0 to 2812\n",
      "Data columns (total 8 columns):\n",
      " #   Column            Non-Null Count  Dtype \n",
      "---  ------            --------------  ----- \n",
      " 0   Company Code      2813 non-null   int64 \n",
      " 1   Account           2813 non-null   int64 \n",
      " 2   Customer Name     2813 non-null   object\n",
      " 3   TFL2              2812 non-null   object\n",
      " 4   Customer Channel  2813 non-null   object\n",
      " 5   SWL2              2812 non-null   object\n",
      " 6   SWL3              2812 non-null   object\n",
      " 7   Banner            2812 non-null   object\n",
      "dtypes: int64(2), object(6)\n",
      "memory usage: 197.8+ KB\n"
     ]
    }
   ],
   "source": [
    "# Missing value check\n",
    "out.info()"
   ]
  },
  {
   "cell_type": "code",
   "execution_count": 40,
   "metadata": {},
   "outputs": [],
   "source": [
    "# Handling missing value\n",
    "for x in out.columns[2:]:\n",
    "    out[x]=out[x].fillna(\"Not Found\")"
   ]
  },
  {
   "cell_type": "code",
   "execution_count": 41,
   "metadata": {},
   "outputs": [
    {
     "name": "stdout",
     "output_type": "stream",
     "text": [
      "<class 'pandas.core.frame.DataFrame'>\n",
      "Int64Index: 2813 entries, 0 to 2812\n",
      "Data columns (total 8 columns):\n",
      " #   Column            Non-Null Count  Dtype \n",
      "---  ------            --------------  ----- \n",
      " 0   Company Code      2813 non-null   int64 \n",
      " 1   Account           2813 non-null   int64 \n",
      " 2   Customer Name     2813 non-null   object\n",
      " 3   TFL2              2813 non-null   object\n",
      " 4   Customer Channel  2813 non-null   object\n",
      " 5   SWL2              2813 non-null   object\n",
      " 6   SWL3              2813 non-null   object\n",
      " 7   Banner            2813 non-null   object\n",
      "dtypes: int64(2), object(6)\n",
      "memory usage: 197.8+ KB\n"
     ]
    }
   ],
   "source": [
    "# Re-checking missing value\n",
    "out.info()"
   ]
  },
  {
   "cell_type": "code",
   "execution_count": 42,
   "metadata": {},
   "outputs": [
    {
     "data": {
      "text/html": [
       "<div>\n",
       "<style scoped>\n",
       "    .dataframe tbody tr th:only-of-type {\n",
       "        vertical-align: middle;\n",
       "    }\n",
       "\n",
       "    .dataframe tbody tr th {\n",
       "        vertical-align: top;\n",
       "    }\n",
       "\n",
       "    .dataframe thead th {\n",
       "        text-align: right;\n",
       "    }\n",
       "</style>\n",
       "<table border=\"1\" class=\"dataframe\">\n",
       "  <thead>\n",
       "    <tr style=\"text-align: right;\">\n",
       "      <th></th>\n",
       "      <th>Company Code</th>\n",
       "      <th>Account</th>\n",
       "      <th>Customer Name</th>\n",
       "      <th>TFL2</th>\n",
       "      <th>Customer Channel</th>\n",
       "      <th>SWL2</th>\n",
       "      <th>SWL3</th>\n",
       "      <th>Banner</th>\n",
       "    </tr>\n",
       "  </thead>\n",
       "  <tbody>\n",
       "    <tr>\n",
       "      <th>971</th>\n",
       "      <td>2408</td>\n",
       "      <td>15080950</td>\n",
       "      <td>PE IXSQ PAWGQ PQIOQI</td>\n",
       "      <td>Not Found</td>\n",
       "      <td>Others</td>\n",
       "      <td>Not Found</td>\n",
       "      <td>Not Found</td>\n",
       "      <td>Not Found</td>\n",
       "    </tr>\n",
       "  </tbody>\n",
       "</table>\n",
       "</div>"
      ],
      "text/plain": [
       "     Company Code   Account         Customer Name       TFL2 Customer Channel  \\\n",
       "971          2408  15080950  PE IXSQ PAWGQ PQIOQI  Not Found           Others   \n",
       "\n",
       "          SWL2       SWL3     Banner  \n",
       "971  Not Found  Not Found  Not Found  "
      ]
     },
     "execution_count": 42,
     "metadata": {},
     "output_type": "execute_result"
    }
   ],
   "source": [
    "# Displaying handled missing value\n",
    "out[out['SWL2']==\"Not Found\"]"
   ]
  },
  {
   "cell_type": "code",
   "execution_count": 43,
   "metadata": {},
   "outputs": [],
   "source": [
    "# Adding unprocessed fields to output\n",
    "out=out.join(FBL5N.iloc[:,2:])"
   ]
  },
  {
   "cell_type": "code",
   "execution_count": 44,
   "metadata": {},
   "outputs": [],
   "source": [
    "# Defining function for `Exclude` field\n",
    "def excl(row):\n",
    "    refkey=row[\"Reference Key 1\"]\n",
    "    if \"CITDUMMY\" in str(refkey) or \"CITDUMMYUFS\" in str(refkey) or \"CITDUMMY UFS\" in str(refkey) or \"CITDUMMY-NKW\" in str(refkey):\n",
    "        return row[\"Reference Key 1\"]\n",
    "    elif row[\"Amount in local currency\"] > 0:\n",
    "        return \"Positive Value\"\n",
    "    elif row[\"Local Currency\"]!=\"IDR\" or row[\"Document currency\"]!=\"IDR\":\n",
    "        return \"Not IDR\"\n",
    "    elif str(row[\"Document Number\"]).startswith('58'):\n",
    "        return \"Reversal Document\"\n",
    "    elif \"bnppay\" in str(row[\"Reference\"]) or \"bnppay\" in str(row[\"Text\"]):\n",
    "        return \"BNPPAY\"\n",
    "    else:\n",
    "        return None"
   ]
  },
  {
   "cell_type": "code",
   "execution_count": 45,
   "metadata": {},
   "outputs": [],
   "source": [
    "# Applying excl function\n",
    "out[\"Exclude\"]=out.apply(excl,axis=1)"
   ]
  },
  {
   "cell_type": "code",
   "execution_count": 46,
   "metadata": {},
   "outputs": [],
   "source": [
    "# Defining function for `Days` field\n",
    "holidays=holiday[\"Holiday\"].apply(lambda x:x.date()).tolist()\n",
    "daylist=[]\n",
    "\n",
    "for i in range(len(out)):\n",
    "    if pd.isna(out[\"Clearing Document\"][i]):\n",
    "        end=reportdate.columns[0].date()\n",
    "        count=np.busday_count(out[\"Document Date\"][i].date(),end,holidays=holidays)\n",
    "        if count<=0:\n",
    "            daylist.append(0)\n",
    "        else:\n",
    "            daylist.append(count)\n",
    "    else:\n",
    "        end=out[\"Clearing date\"][i].date()\n",
    "        count=np.busday_count(out[\"Document Date\"][i].date(),end,holidays=holidays)\n",
    "        if count<=0:\n",
    "            daylist.append(0)\n",
    "        else:\n",
    "            if (end.weekday()>4) or (end in holidays):\n",
    "                daylist.append(count-1)\n",
    "            else:\n",
    "                daylist.append(count)\n",
    "\n",
    "# Applying function\n",
    "out[\"Days\"]=daylist"
   ]
  },
  {
   "cell_type": "code",
   "execution_count": 47,
   "metadata": {},
   "outputs": [],
   "source": [
    "# Defining function for `Ageing` field\n",
    "def aging(a):\n",
    "    if a[\"Days\"] <= -1:\n",
    "        return \">2\"\n",
    "    elif a[\"Days\"] < 2:\n",
    "        return \"<2\"\n",
    "    elif a[\"Days\"] == 2:\n",
    "        return \"=2\"\n",
    "    else:\n",
    "        return \">2\"\n",
    "\n",
    "# Applying the function\n",
    "out[\"Ageing\"]=out.apply(aging,axis=1)"
   ]
  },
  {
   "cell_type": "code",
   "execution_count": 48,
   "metadata": {},
   "outputs": [],
   "source": [
    "# Generating `Clearing Status` field\n",
    "out[\"Clearing Status\"]=out[\"Clearing Document\"].apply(lambda s:\"Open\" if pd.isna(s) else \"Cleared\")"
   ]
  },
  {
   "attachments": {},
   "cell_type": "markdown",
   "metadata": {},
   "source": [
    "# Group by Output"
   ]
  },
  {
   "cell_type": "code",
   "execution_count": 49,
   "metadata": {},
   "outputs": [
    {
     "data": {
      "text/plain": [
       "BNPPAY                  2\n",
       "CITDUMMY              176\n",
       "CITDUMMY UFS            2\n",
       "CITDUMMY-NKW            7\n",
       "CITDUMMYUFS           105\n",
       "Not IDR                 8\n",
       "Positive Value       1278\n",
       "Reversal Document       2\n",
       "None                 1233\n",
       "Name: Exclude, dtype: int64"
      ]
     },
     "metadata": {},
     "output_type": "display_data"
    },
    {
     "name": "stdout",
     "output_type": "stream",
     "text": [
      "Grand Total :  2813\n"
     ]
    }
   ],
   "source": [
    "# Group by Exclude- Count of rows\n",
    "display(out[\"Exclude\"].value_counts(dropna=False).sort_index())\n",
    "print(\"Grand Total : \",out[\"Exclude\"].value_counts(dropna=False).sort_index().sum())"
   ]
  },
  {
   "cell_type": "code",
   "execution_count": 50,
   "metadata": {},
   "outputs": [
    {
     "data": {
      "text/plain": [
       "DT        536\n",
       "MT        324\n",
       "IC        277\n",
       "UFS        41\n",
       "U-PRO       9\n",
       "Others      1\n",
       "Name: Customer Channel, dtype: int64"
      ]
     },
     "metadata": {},
     "output_type": "display_data"
    },
    {
     "name": "stdout",
     "output_type": "stream",
     "text": [
      "Grand Total :  1188\n"
     ]
    }
   ],
   "source": [
    "# Group by Channel- Count of days with <=2 days and exclude field is empty\n",
    "display(out[(out[\"Exclude\"].isna())&((out[\"Ageing\"]==\"=2\")|(out[\"Ageing\"]==\"<2\"))][\"Customer Channel\"].value_counts())\n",
    "print(\"Grand Total : \",out[(out[\"Exclude\"].isna())&((out[\"Ageing\"]==\"=2\")|(out[\"Ageing\"]==\"<2\"))][\"Customer Channel\"].value_counts().sum())"
   ]
  },
  {
   "cell_type": "markdown",
   "metadata": {},
   "source": [
    "# Excel Output"
   ]
  },
  {
   "cell_type": "code",
   "execution_count": 51,
   "metadata": {},
   "outputs": [],
   "source": [
    "# Save output as excel file\n",
    "out.to_excel(r\"Technical Test Submission excel - Abdurrahman Nur Ashri Diasta Fajar Ramadlan.xlsx\",index=False)"
   ]
  }
 ],
 "metadata": {
  "kernelspec": {
   "display_name": "base",
   "language": "python",
   "name": "python3"
  },
  "language_info": {
   "codemirror_mode": {
    "name": "ipython",
    "version": 3
   },
   "file_extension": ".py",
   "mimetype": "text/x-python",
   "name": "python",
   "nbconvert_exporter": "python",
   "pygments_lexer": "ipython3",
   "version": "3.9.12"
  },
  "orig_nbformat": 4,
  "vscode": {
   "interpreter": {
    "hash": "ad2bdc8ecc057115af97d19610ffacc2b4e99fae6737bb82f5d7fb13d2f2c186"
   }
  }
 },
 "nbformat": 4,
 "nbformat_minor": 2
}
